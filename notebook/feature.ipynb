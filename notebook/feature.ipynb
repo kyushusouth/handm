{
 "cells": [
  {
   "cell_type": "code",
   "execution_count": null,
   "id": "722b3d7d",
   "metadata": {},
   "outputs": [],
   "source": [
    "from typing import List, Type\n",
    "\n",
    "import pandas as pd\n",
    "import seaborn as sns\n",
    "\n",
    "from models.base import BaseModel\n",
    "from models.popularity import PopularityModel\n",
    "from models.repurchase import RepurchaseModel\n",
    "from schema.config import Config\n",
    "from utils.dataloader import DataLoader\n",
    "from utils.logger import get_logger\n",
    "from utils.metrics_calculator import MetricsCalculator\n",
    "from sklearn.preprocessing import LabelEncoder\n",
    "\n",
    "sns.set_style(\"whitegrid\")\n",
    "logger = get_logger(__name__)"
   ]
  },
  {
   "cell_type": "code",
   "execution_count": null,
   "id": "e3fef3b3",
   "metadata": {},
   "outputs": [],
   "source": []
  }
 ],
 "metadata": {
  "kernelspec": {
   "display_name": ".venv",
   "language": "python",
   "name": "python3"
  },
  "language_info": {
   "codemirror_mode": {
    "name": "ipython",
    "version": 3
   },
   "file_extension": ".py",
   "mimetype": "text/x-python",
   "name": "python",
   "nbconvert_exporter": "python",
   "pygments_lexer": "ipython3",
   "version": "3.13.2"
  }
 },
 "nbformat": 4,
 "nbformat_minor": 5
}
