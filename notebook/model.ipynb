{
 "cells": [
  {
   "cell_type": "code",
   "execution_count": 1,
   "id": "258fe6db",
   "metadata": {},
   "outputs": [
    {
     "name": "stdout",
     "output_type": "stream",
     "text": [
      "2025-06-15 11:18:44 - utils.logger - INFO     - ロガー設定が完了しました。\n"
     ]
    }
   ],
   "source": [
    "import numpy as np\n",
    "import pandas as pd\n",
    "import matplotlib.pyplot as plt\n",
    "import seaborn as sns\n",
    "from schema.config import Config\n",
    "from utils.dataloader import DataLoader\n",
    "\n",
    "sns.set_style(\"whitegrid\")"
   ]
  },
  {
   "cell_type": "code",
   "execution_count": 2,
   "id": "eef98850",
   "metadata": {},
   "outputs": [
    {
     "name": "stdout",
     "output_type": "stream",
     "text": [
      "2025-06-15 11:18:51 - utils.dataloader - INFO     - Loading Dataset ...\n"
     ]
    }
   ],
   "source": [
    "cfg = Config.load_config(\"../conf/main.yaml\")\n",
    "dataset = DataLoader(cfg).load()"
   ]
  },
  {
   "cell_type": "code",
   "execution_count": null,
   "id": "32cccb2d",
   "metadata": {},
   "outputs": [
    {
     "data": {
      "text/html": [
       "<div>\n",
       "<style scoped>\n",
       "    .dataframe tbody tr th:only-of-type {\n",
       "        vertical-align: middle;\n",
       "    }\n",
       "\n",
       "    .dataframe tbody tr th {\n",
       "        vertical-align: top;\n",
       "    }\n",
       "\n",
       "    .dataframe thead th {\n",
       "        text-align: right;\n",
       "    }\n",
       "</style>\n",
       "<table border=\"1\" class=\"dataframe\">\n",
       "  <thead>\n",
       "    <tr style=\"text-align: right;\">\n",
       "      <th></th>\n",
       "      <th>t_dat</th>\n",
       "      <th>customer_id</th>\n",
       "      <th>article_id</th>\n",
       "      <th>price</th>\n",
       "      <th>sales_channel_id</th>\n",
       "    </tr>\n",
       "  </thead>\n",
       "  <tbody>\n",
       "    <tr>\n",
       "      <th>28401361</th>\n",
       "      <td>2020-07-01</td>\n",
       "      <td>0001d44dbe7f6c4b35200abdb052c77a87596fe1bdcc37...</td>\n",
       "      <td>825577003</td>\n",
       "      <td>0.013542</td>\n",
       "      <td>2</td>\n",
       "    </tr>\n",
       "    <tr>\n",
       "      <th>28401362</th>\n",
       "      <td>2020-07-01</td>\n",
       "      <td>0001d44dbe7f6c4b35200abdb052c77a87596fe1bdcc37...</td>\n",
       "      <td>849487005</td>\n",
       "      <td>0.042356</td>\n",
       "      <td>2</td>\n",
       "    </tr>\n",
       "    <tr>\n",
       "      <th>28401363</th>\n",
       "      <td>2020-07-01</td>\n",
       "      <td>0001d44dbe7f6c4b35200abdb052c77a87596fe1bdcc37...</td>\n",
       "      <td>772659001</td>\n",
       "      <td>0.023712</td>\n",
       "      <td>2</td>\n",
       "    </tr>\n",
       "    <tr>\n",
       "      <th>28401364</th>\n",
       "      <td>2020-07-01</td>\n",
       "      <td>0001d44dbe7f6c4b35200abdb052c77a87596fe1bdcc37...</td>\n",
       "      <td>804732004</td>\n",
       "      <td>0.042356</td>\n",
       "      <td>2</td>\n",
       "    </tr>\n",
       "    <tr>\n",
       "      <th>28401365</th>\n",
       "      <td>2020-07-01</td>\n",
       "      <td>0001d44dbe7f6c4b35200abdb052c77a87596fe1bdcc37...</td>\n",
       "      <td>804732004</td>\n",
       "      <td>0.042356</td>\n",
       "      <td>2</td>\n",
       "    </tr>\n",
       "    <tr>\n",
       "      <th>...</th>\n",
       "      <td>...</td>\n",
       "      <td>...</td>\n",
       "      <td>...</td>\n",
       "      <td>...</td>\n",
       "      <td>...</td>\n",
       "    </tr>\n",
       "    <tr>\n",
       "      <th>30703089</th>\n",
       "      <td>2020-08-24</td>\n",
       "      <td>fff726dbb283b3eb9870ab568ca37c302edbc1db6e59e8...</td>\n",
       "      <td>748355003</td>\n",
       "      <td>0.022017</td>\n",
       "      <td>2</td>\n",
       "    </tr>\n",
       "    <tr>\n",
       "      <th>30703090</th>\n",
       "      <td>2020-08-24</td>\n",
       "      <td>fff75b504a22d1b913d64769605fb1a6c2bc01d8289878...</td>\n",
       "      <td>633152027</td>\n",
       "      <td>0.033881</td>\n",
       "      <td>2</td>\n",
       "    </tr>\n",
       "    <tr>\n",
       "      <th>30703091</th>\n",
       "      <td>2020-08-24</td>\n",
       "      <td>fffef3b6b73545df065b521e19f64bf6fe93bfd450ab20...</td>\n",
       "      <td>934054002</td>\n",
       "      <td>0.050831</td>\n",
       "      <td>2</td>\n",
       "    </tr>\n",
       "    <tr>\n",
       "      <th>30703092</th>\n",
       "      <td>2020-08-24</td>\n",
       "      <td>ffff12aa623c69eae8959d673f1f12ad0194ad760d77fd...</td>\n",
       "      <td>871664001</td>\n",
       "      <td>0.005068</td>\n",
       "      <td>1</td>\n",
       "    </tr>\n",
       "    <tr>\n",
       "      <th>30703093</th>\n",
       "      <td>2020-08-24</td>\n",
       "      <td>ffff12aa623c69eae8959d673f1f12ad0194ad760d77fd...</td>\n",
       "      <td>869706005</td>\n",
       "      <td>0.084729</td>\n",
       "      <td>1</td>\n",
       "    </tr>\n",
       "  </tbody>\n",
       "</table>\n",
       "<p>2301733 rows × 5 columns</p>\n",
       "</div>"
      ],
      "text/plain": [
       "              t_dat                                        customer_id  \\\n",
       "28401361 2020-07-01  0001d44dbe7f6c4b35200abdb052c77a87596fe1bdcc37...   \n",
       "28401362 2020-07-01  0001d44dbe7f6c4b35200abdb052c77a87596fe1bdcc37...   \n",
       "28401363 2020-07-01  0001d44dbe7f6c4b35200abdb052c77a87596fe1bdcc37...   \n",
       "28401364 2020-07-01  0001d44dbe7f6c4b35200abdb052c77a87596fe1bdcc37...   \n",
       "28401365 2020-07-01  0001d44dbe7f6c4b35200abdb052c77a87596fe1bdcc37...   \n",
       "...             ...                                                ...   \n",
       "30703089 2020-08-24  fff726dbb283b3eb9870ab568ca37c302edbc1db6e59e8...   \n",
       "30703090 2020-08-24  fff75b504a22d1b913d64769605fb1a6c2bc01d8289878...   \n",
       "30703091 2020-08-24  fffef3b6b73545df065b521e19f64bf6fe93bfd450ab20...   \n",
       "30703092 2020-08-24  ffff12aa623c69eae8959d673f1f12ad0194ad760d77fd...   \n",
       "30703093 2020-08-24  ffff12aa623c69eae8959d673f1f12ad0194ad760d77fd...   \n",
       "\n",
       "          article_id     price  sales_channel_id  \n",
       "28401361   825577003  0.013542                 2  \n",
       "28401362   849487005  0.042356                 2  \n",
       "28401363   772659001  0.023712                 2  \n",
       "28401364   804732004  0.042356                 2  \n",
       "28401365   804732004  0.042356                 2  \n",
       "...              ...       ...               ...  \n",
       "30703089   748355003  0.022017                 2  \n",
       "30703090   633152027  0.033881                 2  \n",
       "30703091   934054002  0.050831                 2  \n",
       "30703092   871664001  0.005068                 1  \n",
       "30703093   869706005  0.084729                 1  \n",
       "\n",
       "[2301733 rows x 5 columns]"
      ]
     },
     "execution_count": 3,
     "metadata": {},
     "output_type": "execute_result"
    }
   ],
   "source": [
    "dataset.train_df.groupby(\"customer_id\")"
   ]
  }
 ],
 "metadata": {
  "kernelspec": {
   "display_name": ".venv",
   "language": "python",
   "name": "python3"
  },
  "language_info": {
   "codemirror_mode": {
    "name": "ipython",
    "version": 3
   },
   "file_extension": ".py",
   "mimetype": "text/x-python",
   "name": "python",
   "nbconvert_exporter": "python",
   "pygments_lexer": "ipython3",
   "version": "3.13.2"
  }
 },
 "nbformat": 4,
 "nbformat_minor": 5
}
