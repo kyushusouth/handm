{
 "cells": [
  {
   "cell_type": "code",
   "execution_count": 1,
   "id": "258fe6db",
   "metadata": {},
   "outputs": [
    {
     "name": "stdout",
     "output_type": "stream",
     "text": [
      "2025-06-15 11:18:44 - utils.logger - INFO     - ロガー設定が完了しました。\n"
     ]
    }
   ],
   "source": [
    "import numpy as np\n",
    "import pandas as pd\n",
    "import matplotlib.pyplot as plt\n",
    "import seaborn as sns\n",
    "from schema.config import Config\n",
    "from utils.dataloader import DataLoader\n",
    "\n",
    "sns.set_style(\"whitegrid\")"
   ]
  },
  {
   "cell_type": "code",
   "execution_count": 2,
   "id": "eef98850",
   "metadata": {},
   "outputs": [
    {
     "name": "stdout",
     "output_type": "stream",
     "text": [
      "2025-06-15 11:18:51 - utils.dataloader - INFO     - Loading Dataset ...\n"
     ]
    }
   ],
   "source": [
    "cfg = Config.load_config(\"../conf/main.yaml\")\n",
    "dataset = DataLoader(cfg).load()"
   ]
  },
  {
   "cell_type": "code",
   "execution_count": 5,
   "id": "32cccb2d",
   "metadata": {},
   "outputs": [
    {
     "data": {
      "text/html": [
       "<div>\n",
       "<style scoped>\n",
       "    .dataframe tbody tr th:only-of-type {\n",
       "        vertical-align: middle;\n",
       "    }\n",
       "\n",
       "    .dataframe tbody tr th {\n",
       "        vertical-align: top;\n",
       "    }\n",
       "\n",
       "    .dataframe thead th {\n",
       "        text-align: right;\n",
       "    }\n",
       "</style>\n",
       "<table border=\"1\" class=\"dataframe\">\n",
       "  <thead>\n",
       "    <tr style=\"text-align: right;\">\n",
       "      <th></th>\n",
       "      <th>purchased_items</th>\n",
       "    </tr>\n",
       "    <tr>\n",
       "      <th>customer_id</th>\n",
       "      <th></th>\n",
       "    </tr>\n",
       "  </thead>\n",
       "  <tbody>\n",
       "    <tr>\n",
       "      <th>0000423b00ade91418cceaf3b26c6af3dd342b51fd051eec9c12fb36984420fa</th>\n",
       "      <td>{826211002}</td>\n",
       "    </tr>\n",
       "    <tr>\n",
       "      <th>00006413d8573cd20ed7128e53b7b13819fe5cfc2d801fe7fc0f26dd8d65a85a</th>\n",
       "      <td>{730683050, 896152002, 927530004, 791587015}</td>\n",
       "    </tr>\n",
       "    <tr>\n",
       "      <th>0000945f66de1a11d9447609b8b41b1bc987ba185a5496ae8831e8493afa24ff</th>\n",
       "      <td>{760084003, 760084013}</td>\n",
       "    </tr>\n",
       "    <tr>\n",
       "      <th>00009d946eec3ea54add5ba56d5210ea898def4b46c68570cf0096d962cacc75</th>\n",
       "      <td>{884319008, 881244001, 706016001, 904736002, 9...</td>\n",
       "    </tr>\n",
       "    <tr>\n",
       "      <th>0000b2f1829e23b24feec422ef13df3ccedaedc85368e6664d04ca30b2f8daff</th>\n",
       "      <td>{807241026, 807244012}</td>\n",
       "    </tr>\n",
       "    <tr>\n",
       "      <th>...</th>\n",
       "      <td>...</td>\n",
       "    </tr>\n",
       "    <tr>\n",
       "      <th>ffff12aa623c69eae8959d673f1f12ad0194ad760d77fd489cd7c5a4aa9ae240</th>\n",
       "      <td>{399256001, 871664001, 865917001, 849361005, 8...</td>\n",
       "    </tr>\n",
       "    <tr>\n",
       "      <th>ffff61677073258d461e043cc9ed4ed97be5617a920640ff61024f4619bf41c4</th>\n",
       "      <td>{810746001, 750519002, 846782002}</td>\n",
       "    </tr>\n",
       "    <tr>\n",
       "      <th>ffffbbf78b6eaac697a8a5dfbfd2bfa8113ee5b403e4747568cac33e8c541831</th>\n",
       "      <td>{822344001, 822311009, 822344010, 599580046, 6...</td>\n",
       "    </tr>\n",
       "    <tr>\n",
       "      <th>ffffcd5046a6143d29a04fb8c424ce494a76e5cdf4fab53481233731b5c4f8b7</th>\n",
       "      <td>{624486088, 685816044, 668012013, 762846031, 8...</td>\n",
       "    </tr>\n",
       "    <tr>\n",
       "      <th>ffffcf35913a0bee60e8741cb2b4e78b8a98ee5ff2e6a1778d0116cffd259264</th>\n",
       "      <td>{795975009, 570004009, 816759002, 835561003, 6...</td>\n",
       "    </tr>\n",
       "  </tbody>\n",
       "</table>\n",
       "<p>382305 rows × 1 columns</p>\n",
       "</div>"
      ],
      "text/plain": [
       "                                                                                      purchased_items\n",
       "customer_id                                                                                          \n",
       "0000423b00ade91418cceaf3b26c6af3dd342b51fd051ee...                                        {826211002}\n",
       "00006413d8573cd20ed7128e53b7b13819fe5cfc2d801fe...       {730683050, 896152002, 927530004, 791587015}\n",
       "0000945f66de1a11d9447609b8b41b1bc987ba185a5496a...                             {760084003, 760084013}\n",
       "00009d946eec3ea54add5ba56d5210ea898def4b46c6857...  {884319008, 881244001, 706016001, 904736002, 9...\n",
       "0000b2f1829e23b24feec422ef13df3ccedaedc85368e66...                             {807241026, 807244012}\n",
       "...                                                                                               ...\n",
       "ffff12aa623c69eae8959d673f1f12ad0194ad760d77fd4...  {399256001, 871664001, 865917001, 849361005, 8...\n",
       "ffff61677073258d461e043cc9ed4ed97be5617a920640f...                  {810746001, 750519002, 846782002}\n",
       "ffffbbf78b6eaac697a8a5dfbfd2bfa8113ee5b403e4747...  {822344001, 822311009, 822344010, 599580046, 6...\n",
       "ffffcd5046a6143d29a04fb8c424ce494a76e5cdf4fab53...  {624486088, 685816044, 668012013, 762846031, 8...\n",
       "ffffcf35913a0bee60e8741cb2b4e78b8a98ee5ff2e6a17...  {795975009, 570004009, 816759002, 835561003, 6...\n",
       "\n",
       "[382305 rows x 1 columns]"
      ]
     },
     "execution_count": 5,
     "metadata": {},
     "output_type": "execute_result"
    }
   ],
   "source": [
    "dataset.train_df.groupby(\"customer_id\").agg(purchased_items=(\"article_id\", set))"
   ]
  }
 ],
 "metadata": {
  "kernelspec": {
   "display_name": ".venv",
   "language": "python",
   "name": "python3"
  },
  "language_info": {
   "codemirror_mode": {
    "name": "ipython",
    "version": 3
   },
   "file_extension": ".py",
   "mimetype": "text/x-python",
   "name": "python",
   "nbconvert_exporter": "python",
   "pygments_lexer": "ipython3",
   "version": "3.13.2"
  }
 },
 "nbformat": 4,
 "nbformat_minor": 5
}
